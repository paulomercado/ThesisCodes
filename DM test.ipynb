{
 "cells": [
  {
   "cell_type": "code",
   "execution_count": 8,
   "metadata": {},
   "outputs": [],
   "source": [
    "import pandas as pd\n",
    "import os\n",
    "import datascript\n",
    "from utils import conduct_dm"
   ]
  },
  {
   "cell_type": "code",
   "execution_count": 9,
   "metadata": {},
   "outputs": [],
   "source": [
    "target_labels=[\"GWAP\",\"LWAP\"] \n",
    "regionnames=[\"LUZ\", \"VIS\", \"MIN\"]\n",
    "islands = [\"Luzon\", \"Visayas\", \"Mindanao\"]"
   ]
  },
  {
   "cell_type": "code",
   "execution_count": 10,
   "metadata": {},
   "outputs": [],
   "source": [
    "output_base_folder = os.path.dirname(os.path.abspath(datascript.__file__)) \n",
    "predsfolder= os.path.join(output_base_folder, \"Preds\")"
   ]
  },
  {
   "cell_type": "code",
   "execution_count": 11,
   "metadata": {},
   "outputs": [
    {
     "name": "stdout",
     "output_type": "stream",
     "text": [
      "LSTM has the same predictive accuracy as SARIMAX in predicting LUZ GWAP.\n",
      "The DM Test Statistic is 1.6590\n",
      "The p-value is 0.0995\n",
      "LSTM has the same predictive accuracy as SARIMAX-GARCH in predicting LUZ GWAP.\n",
      "The DM Test Statistic is -1.6761\n",
      "The p-value is 0.0961\n",
      "LSTM has the same predictive accuracy as SARIMAX-EGARCH in predicting LUZ GWAP.\n",
      "The DM Test Statistic is 1.1127\n",
      "The p-value is 0.2679\n",
      "LSTM has the same predictive accuracy as SARIMAX in predicting LUZ LWAP.\n",
      "The DM Test Statistic is 1.5195\n",
      "The p-value is 0.1311\n",
      "LSTM has the same predictive accuracy as SARIMAX-GARCH in predicting LUZ LWAP.\n",
      "The DM Test Statistic is -1.9106\n",
      "The p-value is 0.0583\n",
      "LSTM has the same predictive accuracy as SARIMAX-EGARCH in predicting LUZ LWAP.\n",
      "The DM Test Statistic is 1.5043\n",
      "The p-value is 0.1349\n",
      "LSTM has the same predictive accuracy as SARIMAX in predicting VIS GWAP.\n",
      "The DM Test Statistic is -0.0686\n",
      "The p-value is 0.9454\n",
      "There is a significant difference between LSTM and SARIMAX-GARCH in predicting VIS GWAP.\n",
      "The DM Test Statistic is -2.5543\n",
      "The p-value is 0.0118\n",
      "LSTM has the same predictive accuracy as SARIMAX-EGARCH in predicting VIS GWAP.\n",
      "The DM Test Statistic is 1.6953\n",
      "The p-value is 0.0924\n",
      "LSTM has the same predictive accuracy as SARIMAX in predicting VIS LWAP.\n",
      "The DM Test Statistic is -0.6335\n",
      "The p-value is 0.5275\n",
      "There is a significant difference between LSTM and SARIMAX-GARCH in predicting VIS LWAP.\n",
      "The DM Test Statistic is -2.4313\n",
      "The p-value is 0.0164\n",
      "LSTM has the same predictive accuracy as SARIMAX-EGARCH in predicting VIS LWAP.\n",
      "The DM Test Statistic is -0.1145\n",
      "The p-value is 0.9090\n",
      "LSTM has the same predictive accuracy as SARIMAX in predicting MIN GWAP.\n",
      "The DM Test Statistic is -1.4363\n",
      "The p-value is 0.1556\n",
      "There is a significant difference between LSTM and SARIMAX-GARCH in predicting MIN GWAP.\n",
      "The DM Test Statistic is -3.2787\n",
      "The p-value is 0.0017\n",
      "There is a significant difference between LSTM and SARIMAX-EGARCH in predicting MIN GWAP.\n",
      "The DM Test Statistic is -2.2129\n",
      "The p-value is 0.0303\n",
      "LSTM has the same predictive accuracy as SARIMAX in predicting MIN LWAP.\n",
      "The DM Test Statistic is -1.1295\n",
      "The p-value is 0.2634\n",
      "There is a significant difference between LSTM and SARIMAX-GARCH in predicting MIN LWAP.\n",
      "The DM Test Statistic is -2.9758\n",
      "The p-value is 0.0043\n",
      "There is a significant difference between LSTM and SARIMAX-EGARCH in predicting MIN LWAP.\n",
      "The DM Test Statistic is 2.2987\n",
      "The p-value is 0.0252\n"
     ]
    }
   ],
   "source": [
    "for regionname in regionnames:\n",
    "        island = \"Luzon\" if regionname == \"LUZ\" else \"Visayas\" if regionname == \"VIS\" else \"Mindanao\"\n",
    "        for target_label in target_labels:\n",
    "\n",
    "            actual_values = datascript.load_data(regionname,target_label,False,False).values\n",
    "            lstmpreds = pd.read_csv(os.path.join(predsfolder, \"LSTM\",f\"{regionname}-{target_label}-predictions.csv\")).values\n",
    "            sarimaxpreds = pd.read_csv(os.path.join(predsfolder, \"SARIMAX\",f\"{regionname}-{target_label}-predictions.csv\")).values\n",
    "            garchpreds = pd.read_csv(os.path.join(predsfolder, \"GARCH\",f\"{regionname}-{target_label}-predictions-garch.csv\")).iloc[:, 1].values\n",
    "            egarchpreds = pd.read_csv(os.path.join(predsfolder, \"GARCH\",f\"{regionname}-{target_label}-predictions-egarch.csv\")).iloc[:, 1].values\n",
    "            \n",
    "            actual_values = actual_values[-len(lstmpreds):]\n",
    "            sarimaxpreds = sarimaxpreds[-len(lstmpreds):]\n",
    "            garchpreds = garchpreds[-len(lstmpreds):]\n",
    "            egarchpreds = egarchpreds[-len(lstmpreds):]\n",
    "\n",
    "            conduct_dm(actual_values, lstmpreds, sarimaxpreds, regionname, target_label, \"SARIMAX\")\n",
    "            conduct_dm(actual_values, lstmpreds, garchpreds, regionname, target_label, \"SARIMAX-GARCH\")\n",
    "            conduct_dm(actual_values, garchpreds, egarchpreds, regionname, target_label, \"SARIMAX-EGARCH\")"
   ]
  }
 ],
 "metadata": {
  "kernelspec": {
   "display_name": "myenv",
   "language": "python",
   "name": "python3"
  },
  "language_info": {
   "codemirror_mode": {
    "name": "ipython",
    "version": 3
   },
   "file_extension": ".py",
   "mimetype": "text/x-python",
   "name": "python",
   "nbconvert_exporter": "python",
   "pygments_lexer": "ipython3",
   "version": "3.9.20"
  }
 },
 "nbformat": 4,
 "nbformat_minor": 2
}
